{
  "cells": [
    {
      "cell_type": "markdown",
      "metadata": {
        "id": "Q4GbY2oc8BjO"
      },
      "source": [
        "https://drive.google.com/file/d/164mK6i85AthlqvijDIPIHfs71s8gZHdt/view?usp=sharing"
      ]
    },
    {
      "cell_type": "markdown",
      "source": [
        "Загружаем архив с данными"
      ],
      "metadata": {
        "id": "IAjtgeQnNI_N"
      }
    },
    {
      "cell_type": "code",
      "execution_count": null,
      "metadata": {
        "colab": {
          "base_uri": "https://localhost:8080/"
        },
        "id": "TiXbdjhj8GPM",
        "outputId": "0d2b5287-9cc8-4631-8955-db34585e0180"
      },
      "outputs": [
        {
          "output_type": "stream",
          "name": "stdout",
          "text": [
            "/usr/local/lib/python3.10/dist-packages/gdown/cli.py:121: FutureWarning: Option `--id` was deprecated in version 4.3.1 and will be removed in 5.0. You don't need to pass it anymore to use a file ID.\n",
            "  warnings.warn(\n",
            "Downloading...\n",
            "From: https://drive.google.com/uc?id=164mK6i85AthlqvijDIPIHfs71s8gZHdt\n",
            "To: /content/alpha_competition.zip\n",
            "100% 35.2M/35.2M [00:00<00:00, 75.2MB/s]\n"
          ]
        }
      ],
      "source": [
        "! gdown --id 164mK6i85AthlqvijDIPIHfs71s8gZHdt"
      ]
    },
    {
      "cell_type": "markdown",
      "source": [
        "Разархивируем данные"
      ],
      "metadata": {
        "id": "obc9kncESFGr"
      }
    },
    {
      "cell_type": "code",
      "execution_count": null,
      "metadata": {
        "colab": {
          "base_uri": "https://localhost:8080/"
        },
        "id": "ZKBBrQbn8xc2",
        "outputId": "9e111b40-fd81-455b-9990-04dd9cd6a955"
      },
      "outputs": [
        {
          "output_type": "stream",
          "name": "stdout",
          "text": [
            "Archive:  /content/alpha_competition.zip\n",
            "  inflating: sample_submission.csv   \n",
            "  inflating: train_supervised_dataset.csv  \n",
            "  inflating: test_dataset.csv        \n",
            "  inflating: train_unsupervised_dataset.csv  \n"
          ]
        }
      ],
      "source": [
        "! unzip /content/alpha_competition.zip"
      ]
    },
    {
      "cell_type": "markdown",
      "source": [
        "Импортируем библиотеки"
      ],
      "metadata": {
        "id": "KKWZjT6ySJQD"
      }
    },
    {
      "cell_type": "code",
      "execution_count": null,
      "metadata": {
        "id": "1fAoD2mb87xi"
      },
      "outputs": [],
      "source": [
        "import pandas as pd"
      ]
    },
    {
      "cell_type": "markdown",
      "source": [
        "Считываем данные с тренировочной выборки"
      ],
      "metadata": {
        "id": "i3NwKKrrS8SM"
      }
    },
    {
      "cell_type": "code",
      "execution_count": null,
      "metadata": {
        "id": "og1UUvy_8_hg",
        "colab": {
          "base_uri": "https://localhost:8080/",
          "height": 250
        },
        "outputId": "09b3705c-f8c0-42ea-d8be-7b496421d2c5"
      },
      "outputs": [
        {
          "output_type": "execute_result",
          "data": {
            "text/plain": [
              "   id                                            name      good          brand\n",
              "0   0         Petmax Бантик леопард с красн розой 2шт    бантик         petmax\n",
              "1   1                87191 Бусы для елки шарики_87191      бусы            NaN\n",
              "2   2              Футболка Piazza Italia WR011446881  футболка  piazza italia\n",
              "3   3  7) YI572-03X-ONE ЗАКОЛКА ДЛЯ ВОЛОС ДЛЯ ДЕВОЧКИ   заколка            NaN\n",
              "4   4                               Одежда (вес) 1500    одежда            NaN"
            ],
            "text/html": [
              "\n",
              "  <div id=\"df-d1d74076-3e38-4915-a863-330d272f5ad3\">\n",
              "    <div class=\"colab-df-container\">\n",
              "      <div>\n",
              "<style scoped>\n",
              "    .dataframe tbody tr th:only-of-type {\n",
              "        vertical-align: middle;\n",
              "    }\n",
              "\n",
              "    .dataframe tbody tr th {\n",
              "        vertical-align: top;\n",
              "    }\n",
              "\n",
              "    .dataframe thead th {\n",
              "        text-align: right;\n",
              "    }\n",
              "</style>\n",
              "<table border=\"1\" class=\"dataframe\">\n",
              "  <thead>\n",
              "    <tr style=\"text-align: right;\">\n",
              "      <th></th>\n",
              "      <th>id</th>\n",
              "      <th>name</th>\n",
              "      <th>good</th>\n",
              "      <th>brand</th>\n",
              "    </tr>\n",
              "  </thead>\n",
              "  <tbody>\n",
              "    <tr>\n",
              "      <th>0</th>\n",
              "      <td>0</td>\n",
              "      <td>Petmax Бантик леопард с красн розой 2шт</td>\n",
              "      <td>бантик</td>\n",
              "      <td>petmax</td>\n",
              "    </tr>\n",
              "    <tr>\n",
              "      <th>1</th>\n",
              "      <td>1</td>\n",
              "      <td>87191 Бусы для елки шарики_87191</td>\n",
              "      <td>бусы</td>\n",
              "      <td>NaN</td>\n",
              "    </tr>\n",
              "    <tr>\n",
              "      <th>2</th>\n",
              "      <td>2</td>\n",
              "      <td>Футболка Piazza Italia WR011446881</td>\n",
              "      <td>футболка</td>\n",
              "      <td>piazza italia</td>\n",
              "    </tr>\n",
              "    <tr>\n",
              "      <th>3</th>\n",
              "      <td>3</td>\n",
              "      <td>7) YI572-03X-ONE ЗАКОЛКА ДЛЯ ВОЛОС ДЛЯ ДЕВОЧКИ</td>\n",
              "      <td>заколка</td>\n",
              "      <td>NaN</td>\n",
              "    </tr>\n",
              "    <tr>\n",
              "      <th>4</th>\n",
              "      <td>4</td>\n",
              "      <td>Одежда (вес) 1500</td>\n",
              "      <td>одежда</td>\n",
              "      <td>NaN</td>\n",
              "    </tr>\n",
              "  </tbody>\n",
              "</table>\n",
              "</div>\n",
              "      <button class=\"colab-df-convert\" onclick=\"convertToInteractive('df-d1d74076-3e38-4915-a863-330d272f5ad3')\"\n",
              "              title=\"Convert this dataframe to an interactive table.\"\n",
              "              style=\"display:none;\">\n",
              "        \n",
              "  <svg xmlns=\"http://www.w3.org/2000/svg\" height=\"24px\"viewBox=\"0 0 24 24\"\n",
              "       width=\"24px\">\n",
              "    <path d=\"M0 0h24v24H0V0z\" fill=\"none\"/>\n",
              "    <path d=\"M18.56 5.44l.94 2.06.94-2.06 2.06-.94-2.06-.94-.94-2.06-.94 2.06-2.06.94zm-11 1L8.5 8.5l.94-2.06 2.06-.94-2.06-.94L8.5 2.5l-.94 2.06-2.06.94zm10 10l.94 2.06.94-2.06 2.06-.94-2.06-.94-.94-2.06-.94 2.06-2.06.94z\"/><path d=\"M17.41 7.96l-1.37-1.37c-.4-.4-.92-.59-1.43-.59-.52 0-1.04.2-1.43.59L10.3 9.45l-7.72 7.72c-.78.78-.78 2.05 0 2.83L4 21.41c.39.39.9.59 1.41.59.51 0 1.02-.2 1.41-.59l7.78-7.78 2.81-2.81c.8-.78.8-2.07 0-2.86zM5.41 20L4 18.59l7.72-7.72 1.47 1.35L5.41 20z\"/>\n",
              "  </svg>\n",
              "      </button>\n",
              "      \n",
              "  <style>\n",
              "    .colab-df-container {\n",
              "      display:flex;\n",
              "      flex-wrap:wrap;\n",
              "      gap: 12px;\n",
              "    }\n",
              "\n",
              "    .colab-df-convert {\n",
              "      background-color: #E8F0FE;\n",
              "      border: none;\n",
              "      border-radius: 50%;\n",
              "      cursor: pointer;\n",
              "      display: none;\n",
              "      fill: #1967D2;\n",
              "      height: 32px;\n",
              "      padding: 0 0 0 0;\n",
              "      width: 32px;\n",
              "    }\n",
              "\n",
              "    .colab-df-convert:hover {\n",
              "      background-color: #E2EBFA;\n",
              "      box-shadow: 0px 1px 2px rgba(60, 64, 67, 0.3), 0px 1px 3px 1px rgba(60, 64, 67, 0.15);\n",
              "      fill: #174EA6;\n",
              "    }\n",
              "\n",
              "    [theme=dark] .colab-df-convert {\n",
              "      background-color: #3B4455;\n",
              "      fill: #D2E3FC;\n",
              "    }\n",
              "\n",
              "    [theme=dark] .colab-df-convert:hover {\n",
              "      background-color: #434B5C;\n",
              "      box-shadow: 0px 1px 3px 1px rgba(0, 0, 0, 0.15);\n",
              "      filter: drop-shadow(0px 1px 2px rgba(0, 0, 0, 0.3));\n",
              "      fill: #FFFFFF;\n",
              "    }\n",
              "  </style>\n",
              "\n",
              "      <script>\n",
              "        const buttonEl =\n",
              "          document.querySelector('#df-d1d74076-3e38-4915-a863-330d272f5ad3 button.colab-df-convert');\n",
              "        buttonEl.style.display =\n",
              "          google.colab.kernel.accessAllowed ? 'block' : 'none';\n",
              "\n",
              "        async function convertToInteractive(key) {\n",
              "          const element = document.querySelector('#df-d1d74076-3e38-4915-a863-330d272f5ad3');\n",
              "          const dataTable =\n",
              "            await google.colab.kernel.invokeFunction('convertToInteractive',\n",
              "                                                     [key], {});\n",
              "          if (!dataTable) return;\n",
              "\n",
              "          const docLinkHtml = 'Like what you see? Visit the ' +\n",
              "            '<a target=\"_blank\" href=https://colab.research.google.com/notebooks/data_table.ipynb>data table notebook</a>'\n",
              "            + ' to learn more about interactive tables.';\n",
              "          element.innerHTML = '';\n",
              "          dataTable['output_type'] = 'display_data';\n",
              "          await google.colab.output.renderOutput(dataTable, element);\n",
              "          const docLink = document.createElement('div');\n",
              "          docLink.innerHTML = docLinkHtml;\n",
              "          element.appendChild(docLink);\n",
              "        }\n",
              "      </script>\n",
              "    </div>\n",
              "  </div>\n",
              "  "
            ]
          },
          "metadata": {},
          "execution_count": 5
        }
      ],
      "source": [
        "train_df = pd.read_csv('/content/train_supervised_dataset.csv')\n",
        "train_df.head()\n"
      ]
    },
    {
      "cell_type": "markdown",
      "source": [
        "Проверяем есть ли пропущенные данные и дубликаты"
      ],
      "metadata": {
        "id": "aISoxF5NhGZY"
      }
    },
    {
      "cell_type": "code",
      "execution_count": null,
      "metadata": {
        "colab": {
          "base_uri": "https://localhost:8080/"
        },
        "id": "fEF_pwj62BAY",
        "outputId": "6bfc30d0-a82c-4cbb-a1b8-02294b948e25"
      },
      "outputs": [
        {
          "output_type": "execute_result",
          "data": {
            "text/plain": [
              "id          0\n",
              "name        0\n",
              "good      819\n",
              "brand    8505\n",
              "dtype: int64"
            ]
          },
          "metadata": {},
          "execution_count": 6
        }
      ],
      "source": [
        "train_df.isna().sum()"
      ]
    },
    {
      "cell_type": "code",
      "source": [
        "train_df.duplicated().sum()"
      ],
      "metadata": {
        "colab": {
          "base_uri": "https://localhost:8080/"
        },
        "id": "H-HBPcNoi0PS",
        "outputId": "f26daf86-c9bb-4fa5-e42a-c10da85499f2"
      },
      "execution_count": null,
      "outputs": [
        {
          "output_type": "execute_result",
          "data": {
            "text/plain": [
              "0"
            ]
          },
          "metadata": {},
          "execution_count": 6
        }
      ]
    },
    {
      "cell_type": "markdown",
      "source": [
        "Импортируем библиотеки"
      ],
      "metadata": {
        "id": "TMxfEZaTif1R"
      }
    },
    {
      "cell_type": "code",
      "execution_count": null,
      "metadata": {
        "id": "B8JqaTr433j_"
      },
      "outputs": [],
      "source": [
        "import re\n",
        "import numpy as np\n",
        "import nltk\n",
        "from nltk.corpus import stopwords\n",
        "import string"
      ]
    },
    {
      "cell_type": "markdown",
      "source": [
        "Напишем функции, очищающие исходный текст от знаков препинания и убирающие из текста предлоги, союзы и тп."
      ],
      "metadata": {
        "id": "Nr4hwPcbingJ"
      }
    },
    {
      "cell_type": "code",
      "execution_count": null,
      "metadata": {
        "id": "rTrAnuyj4zxT",
        "colab": {
          "base_uri": "https://localhost:8080/"
        },
        "outputId": "352388b2-2b99-47a4-f1cf-43f40f4f5937"
      },
      "outputs": [
        {
          "output_type": "stream",
          "name": "stderr",
          "text": [
            "[nltk_data] Downloading package stopwords to /root/nltk_data...\n",
            "[nltk_data]   Unzipping corpora/stopwords.zip.\n"
          ]
        }
      ],
      "source": [
        "nltk.download('stopwords')\n",
        "russian_stopwords = stopwords.words(\"russian\")\n",
        "def clean_data(line):\n",
        "\n",
        "    tokens = str(line)\n",
        "    tokens = [re.sub('<[^>]+>', '', token).strip(string.punctuation) for token in tokens.split()]\n",
        "    line = \" \".join(tokens)\n",
        "    return line\n",
        "\n",
        "def preprocess_data(text):\n",
        "\n",
        "    tokens = str(text)\n",
        "    tokens = [token for token in tokens.split() if token not in russian_stopwords\\\n",
        "\n",
        "              and token.isalpha()\\\n",
        "              and len(token)>=3 ]\n",
        "    text = \" \".join(tokens)\n",
        "    return text"
      ]
    },
    {
      "cell_type": "markdown",
      "source": [
        "Импортируем необходимые библиотеки"
      ],
      "metadata": {
        "id": "3XHaEWwTjDL5"
      }
    },
    {
      "cell_type": "code",
      "execution_count": null,
      "metadata": {
        "id": "f2xd-3sg6dL5"
      },
      "outputs": [],
      "source": [
        "from sklearn.model_selection import train_test_split"
      ]
    },
    {
      "cell_type": "code",
      "execution_count": null,
      "metadata": {
        "id": "e7cl7sHj62F7"
      },
      "outputs": [],
      "source": [
        "from sklearn.linear_model import SGDClassifier\n",
        "from sklearn.multiclass import OneVsRestClassifier\n",
        "from sklearn.feature_extraction.text import CountVectorizer\n",
        "from sklearn.feature_extraction.text import TfidfTransformer\n",
        "from sklearn.feature_extraction.text import TfidfVectorizer\n",
        "from sklearn.preprocessing import StandardScaler\n",
        "from sklearn.naive_bayes import MultinomialNB\n",
        "from sklearn.metrics import f1_score\n",
        "from imblearn.pipeline import Pipeline\n",
        "from sklearn.svm import LinearSVC\n",
        "import numpy\n"
      ]
    },
    {
      "cell_type": "markdown",
      "source": [
        "Посчитаем количество разных классов в тренировочном датасете"
      ],
      "metadata": {
        "id": "bTv6MOwx0A-b"
      }
    },
    {
      "cell_type": "code",
      "source": [
        "df_good = pd.DataFrame(train_df['good'].value_counts()).reset_index().rename(columns={\"index\": \"good\", \"good\": \"counts\"})\n",
        "df_brand = pd.DataFrame(train_df['brand'].value_counts()).reset_index().rename(columns={\"index\": \"brand\", \"brand\": \"counts\"})"
      ],
      "metadata": {
        "id": "LK5rntaUt3Qu"
      },
      "execution_count": null,
      "outputs": []
    },
    {
      "cell_type": "markdown",
      "source": [
        "Отберем только те классы, которых не меньше 4"
      ],
      "metadata": {
        "id": "gXKvpEyD0xRp"
      }
    },
    {
      "cell_type": "code",
      "source": [
        "df_goods = train_df.loc[train_df[\"good\"].isin(df_good[df_good[\"counts\"] >= 4][\"good\"])]\n",
        "df_brands = train_df.loc[train_df[\"brand\"].isin(df_brand[df_brand[\"counts\"] >= 4][\"brand\"])]\n",
        "df_brands.shape"
      ],
      "metadata": {
        "colab": {
          "base_uri": "https://localhost:8080/"
        },
        "id": "g_OnoXx602kU",
        "outputId": "4769ccee-6ec4-4e65-ea10-ba596db61092"
      },
      "execution_count": null,
      "outputs": [
        {
          "output_type": "execute_result",
          "data": {
            "text/plain": [
              "(8806, 4)"
            ]
          },
          "metadata": {},
          "execution_count": 13
        }
      ]
    },
    {
      "cell_type": "markdown",
      "source": [
        "Удалим пропущенные значения и обработаем тренировочные данные с помощью функций clean_data и preprocess_data"
      ],
      "metadata": {
        "id": "FTXflOfu12gq"
      }
    },
    {
      "cell_type": "code",
      "source": [
        "X0 = df_goods['name'].loc[df_goods['good'].notna()].apply(lambda x: clean_data(x)).apply(lambda x: preprocess_data(x))\n",
        "X1 = df_brands['name'].loc[df_brands['brand'].notna()].apply(lambda x: clean_data(x)).apply(lambda x: preprocess_data(x))\n",
        "y0 = df_goods['good'].loc[df_goods['good'].notna()]\n",
        "y1 = df_brands['brand'].loc[df_brands['brand'].notna()]"
      ],
      "metadata": {
        "id": "EiuRb07f2z15"
      },
      "execution_count": null,
      "outputs": []
    },
    {
      "cell_type": "markdown",
      "source": [
        "Разделим данные на тренировочную и валидационную выборку\n",
        "\n"
      ],
      "metadata": {
        "id": "p1QkSYdn9TjK"
      }
    },
    {
      "cell_type": "code",
      "execution_count": null,
      "metadata": {
        "id": "sFbdmsF3Uo4s"
      },
      "outputs": [],
      "source": [
        "X0_train, X0_val, y0_train, y0_val = train_test_split(X0, y0, stratify=y0,\n",
        "                                                    test_size=0.15, random_state=42)\n",
        "X1_train, X1_val, y1_train, y1_val = train_test_split(X1, y1, stratify=y1,\n",
        "                                                    test_size=0.15, random_state=42)"
      ]
    },
    {
      "cell_type": "code",
      "source": [
        "from sklearn.model_selection import GridSearchCV\n",
        "from sklearn.metrics import f1_score, make_scorer\n",
        "f1 = make_scorer(f1_score , average='weighted')"
      ],
      "metadata": {
        "id": "pEQQY8MiHHVq"
      },
      "execution_count": null,
      "outputs": []
    },
    {
      "cell_type": "markdown",
      "source": [
        "Соберем пайплан, подберем параметры с помощью GridSearchCV и обучим модель для метки 'good'"
      ],
      "metadata": {
        "id": "5Ry30_hg9nKI"
      }
    },
    {
      "cell_type": "code",
      "execution_count": null,
      "metadata": {
        "id": "zJALsdnO8Kdm",
        "colab": {
          "base_uri": "https://localhost:8080/"
        },
        "outputId": "37ae728c-e846-4950-ca43-795a3e54b3ce"
      },
      "outputs": [
        {
          "output_type": "stream",
          "name": "stdout",
          "text": [
            "Fitting 4 folds for each of 3 candidates, totalling 12 fits\n"
          ]
        },
        {
          "output_type": "stream",
          "name": "stderr",
          "text": [
            "/usr/local/lib/python3.10/dist-packages/sklearn/model_selection/_split.py:700: UserWarning: The least populated class in y has only 3 members, which is less than n_splits=4.\n",
            "  warnings.warn(\n"
          ]
        },
        {
          "output_type": "stream",
          "name": "stdout",
          "text": [
            "Score: 90.76752712018776\n"
          ]
        }
      ],
      "source": [
        "clf = LinearSVC()\n",
        "parameters = {\n",
        "'vect__ngram_range': ((1, 1), (1, 2), (1,3)),\n",
        "}\n",
        "text_clf_0 = Pipeline([('vect', CountVectorizer()),\n",
        "                      ('tfidf', TfidfTransformer()),\n",
        "                      ('clf', OneVsRestClassifier(clf, n_jobs=-1))])\n",
        "gs_cv = GridSearchCV(estimator=text_clf_0,\n",
        "                 param_grid=parameters,\n",
        "                 cv= 4,\n",
        "                 verbose=1,\n",
        "                 scoring=f1)\n",
        "gs_cv.fit(X0_train, y0_train)\n",
        "y0_pred = gs_cv.best_estimator_.predict(X0_val)\n",
        "print('Score:', 100*f1_score(y0_val, y0_pred,  average='weighted'))"
      ]
    },
    {
      "cell_type": "markdown",
      "source": [
        "Соберем пайплан, подберем параметры с помощью GridSearchCV и обучим модель для метки 'brand'"
      ],
      "metadata": {
        "id": "nH4ukK_j-Cvg"
      }
    },
    {
      "cell_type": "code",
      "execution_count": null,
      "metadata": {
        "colab": {
          "base_uri": "https://localhost:8080/"
        },
        "id": "7MLtBepKBinW",
        "outputId": "0c7e7ce4-656c-4af6-8307-4a4f734c1863"
      },
      "outputs": [
        {
          "output_type": "stream",
          "name": "stdout",
          "text": [
            "Fitting 4 folds for each of 3 candidates, totalling 12 fits\n"
          ]
        },
        {
          "output_type": "stream",
          "name": "stderr",
          "text": [
            "/usr/local/lib/python3.10/dist-packages/sklearn/model_selection/_split.py:700: UserWarning: The least populated class in y has only 3 members, which is less than n_splits=4.\n",
            "  warnings.warn(\n"
          ]
        },
        {
          "output_type": "stream",
          "name": "stdout",
          "text": [
            "Score: 87.88366064163905\n"
          ]
        }
      ],
      "source": [
        "text_clf_1 = Pipeline([('vect', CountVectorizer()),\n",
        "                      ('tfidf', TfidfTransformer()),\n",
        "                      ('clf', OneVsRestClassifier(clf, n_jobs=-1))])\n",
        "\n",
        "gs_cv_1 = GridSearchCV(estimator=text_clf_0,\n",
        "                 param_grid=parameters,\n",
        "                 cv= 4,\n",
        "                 verbose=1,\n",
        "                 scoring=f1)\n",
        "gs_cv_1.fit(X1_train, y1_train)\n",
        "y1_pred = gs_cv_1.best_estimator_.predict(X1_val)\n",
        "print('Score:', 100*f1_score(y1_val, y1_pred,  average='weighted'))"
      ]
    },
    {
      "cell_type": "markdown",
      "source": [
        "Считаем тестовые данные"
      ],
      "metadata": {
        "id": "wcFWmNL6-HwW"
      }
    },
    {
      "cell_type": "code",
      "execution_count": null,
      "metadata": {
        "colab": {
          "base_uri": "https://localhost:8080/",
          "height": 206
        },
        "id": "uN-zCRbjELlr",
        "outputId": "963c36ac-6388-4568-bcac-e655be5942be"
      },
      "outputs": [
        {
          "output_type": "execute_result",
          "data": {
            "text/plain": [
              "   id                                             name\n",
              "0   0  469-210 ЕРМАК Клей универсальный, 15мл, блистер\n",
              "1   1                  Торт СЛАДУШКА Зимняя вишня 700г\n",
              "2   2             Смеситель \"CALORIE\" 1023 А06 д/кухни\n",
              "3   3                                   Лимон 50гр БАР\n",
              "4   4            Коньяк САРАДЖИШВИЛИ 5 лет 0,5л Грузия"
            ],
            "text/html": [
              "\n",
              "  <div id=\"df-c98c213f-6ce0-4162-ad3f-ccfdb69ef003\">\n",
              "    <div class=\"colab-df-container\">\n",
              "      <div>\n",
              "<style scoped>\n",
              "    .dataframe tbody tr th:only-of-type {\n",
              "        vertical-align: middle;\n",
              "    }\n",
              "\n",
              "    .dataframe tbody tr th {\n",
              "        vertical-align: top;\n",
              "    }\n",
              "\n",
              "    .dataframe thead th {\n",
              "        text-align: right;\n",
              "    }\n",
              "</style>\n",
              "<table border=\"1\" class=\"dataframe\">\n",
              "  <thead>\n",
              "    <tr style=\"text-align: right;\">\n",
              "      <th></th>\n",
              "      <th>id</th>\n",
              "      <th>name</th>\n",
              "    </tr>\n",
              "  </thead>\n",
              "  <tbody>\n",
              "    <tr>\n",
              "      <th>0</th>\n",
              "      <td>0</td>\n",
              "      <td>469-210 ЕРМАК Клей универсальный, 15мл, блистер</td>\n",
              "    </tr>\n",
              "    <tr>\n",
              "      <th>1</th>\n",
              "      <td>1</td>\n",
              "      <td>Торт СЛАДУШКА Зимняя вишня 700г</td>\n",
              "    </tr>\n",
              "    <tr>\n",
              "      <th>2</th>\n",
              "      <td>2</td>\n",
              "      <td>Смеситель \"CALORIE\" 1023 А06 д/кухни</td>\n",
              "    </tr>\n",
              "    <tr>\n",
              "      <th>3</th>\n",
              "      <td>3</td>\n",
              "      <td>Лимон 50гр БАР</td>\n",
              "    </tr>\n",
              "    <tr>\n",
              "      <th>4</th>\n",
              "      <td>4</td>\n",
              "      <td>Коньяк САРАДЖИШВИЛИ 5 лет 0,5л Грузия</td>\n",
              "    </tr>\n",
              "  </tbody>\n",
              "</table>\n",
              "</div>\n",
              "      <button class=\"colab-df-convert\" onclick=\"convertToInteractive('df-c98c213f-6ce0-4162-ad3f-ccfdb69ef003')\"\n",
              "              title=\"Convert this dataframe to an interactive table.\"\n",
              "              style=\"display:none;\">\n",
              "        \n",
              "  <svg xmlns=\"http://www.w3.org/2000/svg\" height=\"24px\"viewBox=\"0 0 24 24\"\n",
              "       width=\"24px\">\n",
              "    <path d=\"M0 0h24v24H0V0z\" fill=\"none\"/>\n",
              "    <path d=\"M18.56 5.44l.94 2.06.94-2.06 2.06-.94-2.06-.94-.94-2.06-.94 2.06-2.06.94zm-11 1L8.5 8.5l.94-2.06 2.06-.94-2.06-.94L8.5 2.5l-.94 2.06-2.06.94zm10 10l.94 2.06.94-2.06 2.06-.94-2.06-.94-.94-2.06-.94 2.06-2.06.94z\"/><path d=\"M17.41 7.96l-1.37-1.37c-.4-.4-.92-.59-1.43-.59-.52 0-1.04.2-1.43.59L10.3 9.45l-7.72 7.72c-.78.78-.78 2.05 0 2.83L4 21.41c.39.39.9.59 1.41.59.51 0 1.02-.2 1.41-.59l7.78-7.78 2.81-2.81c.8-.78.8-2.07 0-2.86zM5.41 20L4 18.59l7.72-7.72 1.47 1.35L5.41 20z\"/>\n",
              "  </svg>\n",
              "      </button>\n",
              "      \n",
              "  <style>\n",
              "    .colab-df-container {\n",
              "      display:flex;\n",
              "      flex-wrap:wrap;\n",
              "      gap: 12px;\n",
              "    }\n",
              "\n",
              "    .colab-df-convert {\n",
              "      background-color: #E8F0FE;\n",
              "      border: none;\n",
              "      border-radius: 50%;\n",
              "      cursor: pointer;\n",
              "      display: none;\n",
              "      fill: #1967D2;\n",
              "      height: 32px;\n",
              "      padding: 0 0 0 0;\n",
              "      width: 32px;\n",
              "    }\n",
              "\n",
              "    .colab-df-convert:hover {\n",
              "      background-color: #E2EBFA;\n",
              "      box-shadow: 0px 1px 2px rgba(60, 64, 67, 0.3), 0px 1px 3px 1px rgba(60, 64, 67, 0.15);\n",
              "      fill: #174EA6;\n",
              "    }\n",
              "\n",
              "    [theme=dark] .colab-df-convert {\n",
              "      background-color: #3B4455;\n",
              "      fill: #D2E3FC;\n",
              "    }\n",
              "\n",
              "    [theme=dark] .colab-df-convert:hover {\n",
              "      background-color: #434B5C;\n",
              "      box-shadow: 0px 1px 3px 1px rgba(0, 0, 0, 0.15);\n",
              "      filter: drop-shadow(0px 1px 2px rgba(0, 0, 0, 0.3));\n",
              "      fill: #FFFFFF;\n",
              "    }\n",
              "  </style>\n",
              "\n",
              "      <script>\n",
              "        const buttonEl =\n",
              "          document.querySelector('#df-c98c213f-6ce0-4162-ad3f-ccfdb69ef003 button.colab-df-convert');\n",
              "        buttonEl.style.display =\n",
              "          google.colab.kernel.accessAllowed ? 'block' : 'none';\n",
              "\n",
              "        async function convertToInteractive(key) {\n",
              "          const element = document.querySelector('#df-c98c213f-6ce0-4162-ad3f-ccfdb69ef003');\n",
              "          const dataTable =\n",
              "            await google.colab.kernel.invokeFunction('convertToInteractive',\n",
              "                                                     [key], {});\n",
              "          if (!dataTable) return;\n",
              "\n",
              "          const docLinkHtml = 'Like what you see? Visit the ' +\n",
              "            '<a target=\"_blank\" href=https://colab.research.google.com/notebooks/data_table.ipynb>data table notebook</a>'\n",
              "            + ' to learn more about interactive tables.';\n",
              "          element.innerHTML = '';\n",
              "          dataTable['output_type'] = 'display_data';\n",
              "          await google.colab.output.renderOutput(dataTable, element);\n",
              "          const docLink = document.createElement('div');\n",
              "          docLink.innerHTML = docLinkHtml;\n",
              "          element.appendChild(docLink);\n",
              "        }\n",
              "      </script>\n",
              "    </div>\n",
              "  </div>\n",
              "  "
            ]
          },
          "metadata": {},
          "execution_count": 20
        }
      ],
      "source": [
        "data_test = pd.read_csv('/content/test_dataset.csv')\n",
        "data_test.head()"
      ]
    },
    {
      "cell_type": "markdown",
      "source": [
        "Обработаем тестовые данные с помощью функций clean_data и preprocess_data"
      ],
      "metadata": {
        "id": "asEH7TPj-2WZ"
      }
    },
    {
      "cell_type": "code",
      "execution_count": null,
      "metadata": {
        "id": "6yomiZ77E78Z"
      },
      "outputs": [],
      "source": [
        "X_test = data_test['name'].apply(lambda x: clean_data(x)).apply(lambda x: preprocess_data(x))"
      ]
    },
    {
      "cell_type": "markdown",
      "source": [
        "Предскажем метки 'good' и 'brand'"
      ],
      "metadata": {
        "id": "8tPmZQPU_xUP"
      }
    },
    {
      "cell_type": "code",
      "execution_count": null,
      "metadata": {
        "id": "-J-SeUp2FDBY"
      },
      "outputs": [],
      "source": [
        "data_test['good'] = gs_cv.best_estimator_.predict(X_test)\n",
        "data_test['brand'] = gs_cv_1.best_estimator_.predict(X_test)"
      ]
    },
    {
      "cell_type": "markdown",
      "source": [
        "Запишем решение в файл 'submission.csv'"
      ],
      "metadata": {
        "id": "NW7y6Xsw_5Rt"
      }
    },
    {
      "cell_type": "code",
      "execution_count": null,
      "metadata": {
        "id": "mxOY5KOIFT66"
      },
      "outputs": [],
      "source": [
        "data_test[['id', 'good', 'brand']].to_csv('submission.csv')"
      ]
    }
  ],
  "metadata": {
    "colab": {
      "provenance": []
    },
    "kernelspec": {
      "display_name": "Python 3",
      "name": "python3"
    },
    "language_info": {
      "name": "python"
    }
  },
  "nbformat": 4,
  "nbformat_minor": 0
}